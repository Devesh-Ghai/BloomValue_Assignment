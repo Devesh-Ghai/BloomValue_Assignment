{
 "cells": [
  {
   "cell_type": "code",
   "execution_count": 1,
   "id": "c82d22f4",
   "metadata": {},
   "outputs": [],
   "source": [
    "import pandas as pd\n",
    "import numpy as np"
   ]
  },
  {
   "cell_type": "code",
   "execution_count": 2,
   "id": "2f04b658",
   "metadata": {},
   "outputs": [],
   "source": [
    "df = pd.read_csv('bv_details.csv')"
   ]
  },
  {
   "cell_type": "code",
   "execution_count": 3,
   "id": "d362f752",
   "metadata": {},
   "outputs": [],
   "source": [
    "def cap_outliers_percentile(series, lower_pct=0.01, upper_pct=0.99):\n",
    "    lower = series.quantile(lower_pct)\n",
    "    upper = series.quantile(upper_pct)\n",
    "    return series.clip(lower=lower, upper=upper)"
   ]
  },
  {
   "cell_type": "code",
   "execution_count": 4,
   "id": "cd87ab5e",
   "metadata": {},
   "outputs": [],
   "source": [
    "df['Net Amount'] = cap_outliers_percentile(df['Net Amount'])\n"
   ]
  },
  {
   "cell_type": "code",
   "execution_count": 5,
   "id": "18cf62f3",
   "metadata": {
    "scrolled": true
   },
   "outputs": [
    {
     "name": "stdout",
     "output_type": "stream",
     "text": [
      "<class 'pandas.core.frame.DataFrame'>\n",
      "RangeIndex: 31185 entries, 0 to 31184\n",
      "Data columns (total 14 columns):\n",
      " #   Column           Non-Null Count  Dtype  \n",
      "---  ------           --------------  -----  \n",
      " 0   S.No.            31185 non-null  int64  \n",
      " 1   Bill Type        31185 non-null  object \n",
      " 2   IPOP             31185 non-null  object \n",
      " 3   Bill No          31185 non-null  int64  \n",
      " 4   Bill Date        31185 non-null  object \n",
      " 5   Bill Amount      31185 non-null  int64  \n",
      " 6   Discount         31185 non-null  int64  \n",
      " 7   Net Amount       31185 non-null  float64\n",
      " 8   Paid Amount      31185 non-null  int64  \n",
      " 9   Balance Amount   31185 non-null  int64  \n",
      " 10  Last Pay Mode    31185 non-null  object \n",
      " 11  MRN              31185 non-null  int64  \n",
      " 12  AdmID            31185 non-null  int64  \n",
      " 13  User_Anonymized  31185 non-null  object \n",
      "dtypes: float64(1), int64(8), object(5)\n",
      "memory usage: 3.3+ MB\n"
     ]
    }
   ],
   "source": [
    "df.info()"
   ]
  },
  {
   "cell_type": "code",
   "execution_count": 6,
   "id": "7c83c29c",
   "metadata": {},
   "outputs": [
    {
     "data": {
      "text/plain": [
       "39598091.64"
      ]
     },
     "execution_count": 6,
     "metadata": {},
     "output_type": "execute_result"
    }
   ],
   "source": [
    "df['Net Amount'].sum()"
   ]
  },
  {
   "cell_type": "code",
   "execution_count": 7,
   "id": "141071b7",
   "metadata": {},
   "outputs": [],
   "source": [
    "df.to_csv(\"bv_details_cleaned.csv\", index=False)"
   ]
  },
  {
   "cell_type": "code",
   "execution_count": null,
   "id": "8c1800a1",
   "metadata": {},
   "outputs": [],
   "source": []
  }
 ],
 "metadata": {
  "kernelspec": {
   "display_name": "Python 3 (ipykernel)",
   "language": "python",
   "name": "python3"
  },
  "language_info": {
   "codemirror_mode": {
    "name": "ipython",
    "version": 3
   },
   "file_extension": ".py",
   "mimetype": "text/x-python",
   "name": "python",
   "nbconvert_exporter": "python",
   "pygments_lexer": "ipython3",
   "version": "3.9.13"
  }
 },
 "nbformat": 4,
 "nbformat_minor": 5
}
