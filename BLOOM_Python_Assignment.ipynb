{
 "cells": [
  {
   "cell_type": "code",
   "execution_count": 1,
   "id": "36447a88",
   "metadata": {},
   "outputs": [],
   "source": [
    "import pandas as pd"
   ]
  },
  {
   "cell_type": "code",
   "execution_count": 2,
   "id": "9b80f1c8",
   "metadata": {},
   "outputs": [],
   "source": [
    "df1 = pd.read_excel('ip bills.xls Dec_a.xlsx')\n",
    "df2 = pd.read_excel(\"ip bills.xls nov_a.xlsx\")\n",
    "df3 = pd.read_excel(\"ip bills.xls oct_a.xlsx\")"
   ]
  },
  {
   "cell_type": "code",
   "execution_count": 3,
   "id": "67e11a21",
   "metadata": {
    "scrolled": true
   },
   "outputs": [
    {
     "data": {
      "text/html": [
       "<div>\n",
       "<style scoped>\n",
       "    .dataframe tbody tr th:only-of-type {\n",
       "        vertical-align: middle;\n",
       "    }\n",
       "\n",
       "    .dataframe tbody tr th {\n",
       "        vertical-align: top;\n",
       "    }\n",
       "\n",
       "    .dataframe thead th {\n",
       "        text-align: right;\n",
       "    }\n",
       "</style>\n",
       "<table border=\"1\" class=\"dataframe\">\n",
       "  <thead>\n",
       "    <tr style=\"text-align: right;\">\n",
       "      <th></th>\n",
       "      <th>#SlNo</th>\n",
       "      <th>Bill Type</th>\n",
       "      <th>IPOP</th>\n",
       "      <th>Bill No</th>\n",
       "      <th>Bill Date</th>\n",
       "      <th>Bill Amount</th>\n",
       "      <th>Discount</th>\n",
       "      <th>Net Amount</th>\n",
       "      <th>Paid Amount</th>\n",
       "      <th>Balance Amount</th>\n",
       "      <th>Last Pay Mode</th>\n",
       "      <th>User</th>\n",
       "      <th>MRN</th>\n",
       "      <th>AdmID</th>\n",
       "      <th>Category</th>\n",
       "    </tr>\n",
       "  </thead>\n",
       "  <tbody>\n",
       "    <tr>\n",
       "      <th>0</th>\n",
       "      <td>1</td>\n",
       "      <td>Ip Bill</td>\n",
       "      <td>IP</td>\n",
       "      <td>2504</td>\n",
       "      <td>2019-12-01 10:18:47</td>\n",
       "      <td>20050</td>\n",
       "      <td>0</td>\n",
       "      <td>20050</td>\n",
       "      <td>20050</td>\n",
       "      <td>0</td>\n",
       "      <td>CASH</td>\n",
       "      <td>brundha s-csh</td>\n",
       "      <td>142857</td>\n",
       "      <td>2494</td>\n",
       "      <td>NaN</td>\n",
       "    </tr>\n",
       "    <tr>\n",
       "      <th>1</th>\n",
       "      <td>2</td>\n",
       "      <td>Ip Bill</td>\n",
       "      <td>IP</td>\n",
       "      <td>2505</td>\n",
       "      <td>2019-12-01 10:33:09</td>\n",
       "      <td>5235</td>\n",
       "      <td>0</td>\n",
       "      <td>5235</td>\n",
       "      <td>5235</td>\n",
       "      <td>0</td>\n",
       "      <td>CASH</td>\n",
       "      <td>brundha s-csh</td>\n",
       "      <td>468092</td>\n",
       "      <td>2501</td>\n",
       "      <td>NaN</td>\n",
       "    </tr>\n",
       "    <tr>\n",
       "      <th>2</th>\n",
       "      <td>3</td>\n",
       "      <td>Ip Bill</td>\n",
       "      <td>IP</td>\n",
       "      <td>2506</td>\n",
       "      <td>2019-12-01 12:32:29</td>\n",
       "      <td>1995</td>\n",
       "      <td>0</td>\n",
       "      <td>1995</td>\n",
       "      <td>1995</td>\n",
       "      <td>0</td>\n",
       "      <td>CARD</td>\n",
       "      <td>brundha s-csh</td>\n",
       "      <td>170560</td>\n",
       "      <td>2498</td>\n",
       "      <td>NaN</td>\n",
       "    </tr>\n",
       "    <tr>\n",
       "      <th>3</th>\n",
       "      <td>4</td>\n",
       "      <td>Ip Bill</td>\n",
       "      <td>IP</td>\n",
       "      <td>2507</td>\n",
       "      <td>2019-12-01 13:42:51</td>\n",
       "      <td>13085</td>\n",
       "      <td>0</td>\n",
       "      <td>13085</td>\n",
       "      <td>13085</td>\n",
       "      <td>0</td>\n",
       "      <td>CARD</td>\n",
       "      <td>brundha s-csh</td>\n",
       "      <td>474228</td>\n",
       "      <td>2482</td>\n",
       "      <td>NaN</td>\n",
       "    </tr>\n",
       "    <tr>\n",
       "      <th>4</th>\n",
       "      <td>5</td>\n",
       "      <td>Ip Bill</td>\n",
       "      <td>IP</td>\n",
       "      <td>2508</td>\n",
       "      <td>2019-12-01 14:26:24</td>\n",
       "      <td>14120</td>\n",
       "      <td>0</td>\n",
       "      <td>14120</td>\n",
       "      <td>14120</td>\n",
       "      <td>0</td>\n",
       "      <td>TPA</td>\n",
       "      <td>brundha s-csh</td>\n",
       "      <td>473777</td>\n",
       "      <td>2486</td>\n",
       "      <td>NaN</td>\n",
       "    </tr>\n",
       "  </tbody>\n",
       "</table>\n",
       "</div>"
      ],
      "text/plain": [
       "   #SlNo Bill Type IPOP  Bill No           Bill Date  Bill Amount  Discount  \\\n",
       "0      1   Ip Bill   IP     2504 2019-12-01 10:18:47        20050         0   \n",
       "1      2   Ip Bill   IP     2505 2019-12-01 10:33:09         5235         0   \n",
       "2      3   Ip Bill   IP     2506 2019-12-01 12:32:29         1995         0   \n",
       "3      4   Ip Bill   IP     2507 2019-12-01 13:42:51        13085         0   \n",
       "4      5   Ip Bill   IP     2508 2019-12-01 14:26:24        14120         0   \n",
       "\n",
       "   Net Amount  Paid Amount  Balance Amount Last Pay Mode           User  \\\n",
       "0       20050        20050               0          CASH  brundha s-csh   \n",
       "1        5235         5235               0          CASH  brundha s-csh   \n",
       "2        1995         1995               0          CARD  brundha s-csh   \n",
       "3       13085        13085               0          CARD  brundha s-csh   \n",
       "4       14120        14120               0           TPA  brundha s-csh   \n",
       "\n",
       "      MRN  AdmID Category  \n",
       "0  142857   2494      NaN  \n",
       "1  468092   2501      NaN  \n",
       "2  170560   2498      NaN  \n",
       "3  474228   2482      NaN  \n",
       "4  473777   2486      NaN  "
      ]
     },
     "execution_count": 3,
     "metadata": {},
     "output_type": "execute_result"
    }
   ],
   "source": [
    "df1.head()"
   ]
  },
  {
   "cell_type": "code",
   "execution_count": 4,
   "id": "91ae98a5",
   "metadata": {},
   "outputs": [
    {
     "data": {
      "text/plain": [
       "(12534, 15)"
      ]
     },
     "execution_count": 4,
     "metadata": {},
     "output_type": "execute_result"
    }
   ],
   "source": [
    "df1.shape"
   ]
  },
  {
   "cell_type": "code",
   "execution_count": 5,
   "id": "eb4ba9e8",
   "metadata": {
    "scrolled": true
   },
   "outputs": [
    {
     "data": {
      "text/html": [
       "<div>\n",
       "<style scoped>\n",
       "    .dataframe tbody tr th:only-of-type {\n",
       "        vertical-align: middle;\n",
       "    }\n",
       "\n",
       "    .dataframe tbody tr th {\n",
       "        vertical-align: top;\n",
       "    }\n",
       "\n",
       "    .dataframe thead th {\n",
       "        text-align: right;\n",
       "    }\n",
       "</style>\n",
       "<table border=\"1\" class=\"dataframe\">\n",
       "  <thead>\n",
       "    <tr style=\"text-align: right;\">\n",
       "      <th></th>\n",
       "      <th>#SlNo</th>\n",
       "      <th>Bill Type</th>\n",
       "      <th>IPOP</th>\n",
       "      <th>Bill No</th>\n",
       "      <th>Bill Date</th>\n",
       "      <th>Bill Amount</th>\n",
       "      <th>Discount</th>\n",
       "      <th>Net Amount</th>\n",
       "      <th>Paid Amount</th>\n",
       "      <th>Balance Amount</th>\n",
       "      <th>Last Pay Mode</th>\n",
       "      <th>User</th>\n",
       "      <th>MRN</th>\n",
       "      <th>AdmID</th>\n",
       "      <th>Category</th>\n",
       "    </tr>\n",
       "  </thead>\n",
       "  <tbody>\n",
       "    <tr>\n",
       "      <th>0</th>\n",
       "      <td>1</td>\n",
       "      <td>Ip Bill</td>\n",
       "      <td>IP</td>\n",
       "      <td>2250</td>\n",
       "      <td>2019-11-01 10:10:46</td>\n",
       "      <td>111040</td>\n",
       "      <td>7960</td>\n",
       "      <td>103080</td>\n",
       "      <td>103080</td>\n",
       "      <td>0</td>\n",
       "      <td>TPA</td>\n",
       "      <td>thriveni-csh</td>\n",
       "      <td>472980</td>\n",
       "      <td>2197</td>\n",
       "      <td>NaN</td>\n",
       "    </tr>\n",
       "    <tr>\n",
       "      <th>1</th>\n",
       "      <td>2</td>\n",
       "      <td>Ip Bill</td>\n",
       "      <td>IP</td>\n",
       "      <td>2251</td>\n",
       "      <td>2019-11-01 11:50:09</td>\n",
       "      <td>31205</td>\n",
       "      <td>0</td>\n",
       "      <td>31205</td>\n",
       "      <td>31205</td>\n",
       "      <td>0</td>\n",
       "      <td>PREPAID</td>\n",
       "      <td>thriveni-csh</td>\n",
       "      <td>235465</td>\n",
       "      <td>2233</td>\n",
       "      <td>NaN</td>\n",
       "    </tr>\n",
       "    <tr>\n",
       "      <th>2</th>\n",
       "      <td>3</td>\n",
       "      <td>Ip Bill</td>\n",
       "      <td>IP</td>\n",
       "      <td>2252</td>\n",
       "      <td>2019-11-01 12:41:04</td>\n",
       "      <td>7045</td>\n",
       "      <td>0</td>\n",
       "      <td>7045</td>\n",
       "      <td>7045</td>\n",
       "      <td>0</td>\n",
       "      <td>PREPAID</td>\n",
       "      <td>thriveni-csh</td>\n",
       "      <td>473501</td>\n",
       "      <td>2232</td>\n",
       "      <td>NaN</td>\n",
       "    </tr>\n",
       "    <tr>\n",
       "      <th>3</th>\n",
       "      <td>4</td>\n",
       "      <td>Ip Bill</td>\n",
       "      <td>IP</td>\n",
       "      <td>2253</td>\n",
       "      <td>2019-11-02 12:46:08</td>\n",
       "      <td>27680</td>\n",
       "      <td>0</td>\n",
       "      <td>27680</td>\n",
       "      <td>27680</td>\n",
       "      <td>0</td>\n",
       "      <td>TPA</td>\n",
       "      <td>thriveni-csh</td>\n",
       "      <td>309436</td>\n",
       "      <td>2238</td>\n",
       "      <td>NaN</td>\n",
       "    </tr>\n",
       "    <tr>\n",
       "      <th>4</th>\n",
       "      <td>5</td>\n",
       "      <td>Ip Bill</td>\n",
       "      <td>IP</td>\n",
       "      <td>2254</td>\n",
       "      <td>2019-11-02 15:36:26</td>\n",
       "      <td>56795</td>\n",
       "      <td>0</td>\n",
       "      <td>56795</td>\n",
       "      <td>56795</td>\n",
       "      <td>0</td>\n",
       "      <td>CARD</td>\n",
       "      <td>vidya d p-csh</td>\n",
       "      <td>473640</td>\n",
       "      <td>2219</td>\n",
       "      <td>NaN</td>\n",
       "    </tr>\n",
       "  </tbody>\n",
       "</table>\n",
       "</div>"
      ],
      "text/plain": [
       "   #SlNo Bill Type IPOP  Bill No           Bill Date  Bill Amount  Discount  \\\n",
       "0      1   Ip Bill   IP     2250 2019-11-01 10:10:46       111040      7960   \n",
       "1      2   Ip Bill   IP     2251 2019-11-01 11:50:09        31205         0   \n",
       "2      3   Ip Bill   IP     2252 2019-11-01 12:41:04         7045         0   \n",
       "3      4   Ip Bill   IP     2253 2019-11-02 12:46:08        27680         0   \n",
       "4      5   Ip Bill   IP     2254 2019-11-02 15:36:26        56795         0   \n",
       "\n",
       "   Net Amount  Paid Amount  Balance Amount Last Pay Mode           User  \\\n",
       "0      103080       103080               0           TPA   thriveni-csh   \n",
       "1       31205        31205               0       PREPAID   thriveni-csh   \n",
       "2        7045         7045               0       PREPAID   thriveni-csh   \n",
       "3       27680        27680               0           TPA   thriveni-csh   \n",
       "4       56795        56795               0          CARD  vidya d p-csh   \n",
       "\n",
       "      MRN  AdmID Category  \n",
       "0  472980   2197      NaN  \n",
       "1  235465   2233      NaN  \n",
       "2  473501   2232      NaN  \n",
       "3  309436   2238      NaN  \n",
       "4  473640   2219      NaN  "
      ]
     },
     "execution_count": 5,
     "metadata": {},
     "output_type": "execute_result"
    }
   ],
   "source": [
    "df2.head()"
   ]
  },
  {
   "cell_type": "code",
   "execution_count": 6,
   "id": "11652613",
   "metadata": {},
   "outputs": [
    {
     "data": {
      "text/plain": [
       "(11021, 15)"
      ]
     },
     "execution_count": 6,
     "metadata": {},
     "output_type": "execute_result"
    }
   ],
   "source": [
    "df2.shape"
   ]
  },
  {
   "cell_type": "code",
   "execution_count": 7,
   "id": "d3858cc9",
   "metadata": {},
   "outputs": [
    {
     "data": {
      "text/html": [
       "<div>\n",
       "<style scoped>\n",
       "    .dataframe tbody tr th:only-of-type {\n",
       "        vertical-align: middle;\n",
       "    }\n",
       "\n",
       "    .dataframe tbody tr th {\n",
       "        vertical-align: top;\n",
       "    }\n",
       "\n",
       "    .dataframe thead th {\n",
       "        text-align: right;\n",
       "    }\n",
       "</style>\n",
       "<table border=\"1\" class=\"dataframe\">\n",
       "  <thead>\n",
       "    <tr style=\"text-align: right;\">\n",
       "      <th></th>\n",
       "      <th>#SlNo</th>\n",
       "      <th>Bill Type</th>\n",
       "      <th>IPOP</th>\n",
       "      <th>Bill No</th>\n",
       "      <th>Bill Date</th>\n",
       "      <th>Bill Amount</th>\n",
       "      <th>Discount</th>\n",
       "      <th>Net Amount</th>\n",
       "      <th>Paid Amount</th>\n",
       "      <th>Balance Amount</th>\n",
       "      <th>Last Pay Mode</th>\n",
       "      <th>User</th>\n",
       "      <th>MRN</th>\n",
       "      <th>AdmID</th>\n",
       "      <th>Category</th>\n",
       "    </tr>\n",
       "  </thead>\n",
       "  <tbody>\n",
       "    <tr>\n",
       "      <th>0</th>\n",
       "      <td>1</td>\n",
       "      <td>Ip Bill</td>\n",
       "      <td>IP</td>\n",
       "      <td>2065</td>\n",
       "      <td>2019-10-11 12:42:18</td>\n",
       "      <td>170255</td>\n",
       "      <td>20000</td>\n",
       "      <td>150255</td>\n",
       "      <td>150255</td>\n",
       "      <td>0</td>\n",
       "      <td>CASH</td>\n",
       "      <td>thriveni-csh</td>\n",
       "      <td>473241</td>\n",
       "      <td>2056</td>\n",
       "      <td>NaN</td>\n",
       "    </tr>\n",
       "    <tr>\n",
       "      <th>1</th>\n",
       "      <td>2</td>\n",
       "      <td>Ip Bill</td>\n",
       "      <td>IP</td>\n",
       "      <td>2066</td>\n",
       "      <td>2019-10-11 13:12:55</td>\n",
       "      <td>23805</td>\n",
       "      <td>0</td>\n",
       "      <td>23805</td>\n",
       "      <td>23805</td>\n",
       "      <td>0</td>\n",
       "      <td>TPA</td>\n",
       "      <td>thriveni-csh</td>\n",
       "      <td>472750</td>\n",
       "      <td>2069</td>\n",
       "      <td>NaN</td>\n",
       "    </tr>\n",
       "    <tr>\n",
       "      <th>2</th>\n",
       "      <td>3</td>\n",
       "      <td>Ip Bill</td>\n",
       "      <td>IP</td>\n",
       "      <td>2067</td>\n",
       "      <td>2019-10-11 13:18:50</td>\n",
       "      <td>24835</td>\n",
       "      <td>0</td>\n",
       "      <td>24835</td>\n",
       "      <td>24835</td>\n",
       "      <td>0</td>\n",
       "      <td>TPA</td>\n",
       "      <td>thriveni-csh</td>\n",
       "      <td>194381</td>\n",
       "      <td>2050</td>\n",
       "      <td>NaN</td>\n",
       "    </tr>\n",
       "    <tr>\n",
       "      <th>3</th>\n",
       "      <td>4</td>\n",
       "      <td>Ip Bill</td>\n",
       "      <td>IP</td>\n",
       "      <td>2068</td>\n",
       "      <td>2019-10-11 13:33:59</td>\n",
       "      <td>25145</td>\n",
       "      <td>1439</td>\n",
       "      <td>23706</td>\n",
       "      <td>23706</td>\n",
       "      <td>0</td>\n",
       "      <td>TPA</td>\n",
       "      <td>thriveni-csh</td>\n",
       "      <td>425772</td>\n",
       "      <td>2045</td>\n",
       "      <td>NaN</td>\n",
       "    </tr>\n",
       "    <tr>\n",
       "      <th>4</th>\n",
       "      <td>5</td>\n",
       "      <td>Ip Bill</td>\n",
       "      <td>IP</td>\n",
       "      <td>2069</td>\n",
       "      <td>2019-10-11 15:02:19</td>\n",
       "      <td>102350</td>\n",
       "      <td>0</td>\n",
       "      <td>102350</td>\n",
       "      <td>102350</td>\n",
       "      <td>0</td>\n",
       "      <td>PREPAID</td>\n",
       "      <td>thriveni-csh</td>\n",
       "      <td>473242</td>\n",
       "      <td>2057</td>\n",
       "      <td>NaN</td>\n",
       "    </tr>\n",
       "  </tbody>\n",
       "</table>\n",
       "</div>"
      ],
      "text/plain": [
       "   #SlNo Bill Type IPOP  Bill No           Bill Date  Bill Amount  Discount  \\\n",
       "0      1   Ip Bill   IP     2065 2019-10-11 12:42:18       170255     20000   \n",
       "1      2   Ip Bill   IP     2066 2019-10-11 13:12:55        23805         0   \n",
       "2      3   Ip Bill   IP     2067 2019-10-11 13:18:50        24835         0   \n",
       "3      4   Ip Bill   IP     2068 2019-10-11 13:33:59        25145      1439   \n",
       "4      5   Ip Bill   IP     2069 2019-10-11 15:02:19       102350         0   \n",
       "\n",
       "   Net Amount  Paid Amount  Balance Amount Last Pay Mode          User  \\\n",
       "0      150255       150255               0          CASH  thriveni-csh   \n",
       "1       23805        23805               0           TPA  thriveni-csh   \n",
       "2       24835        24835               0           TPA  thriveni-csh   \n",
       "3       23706        23706               0           TPA  thriveni-csh   \n",
       "4      102350       102350               0       PREPAID  thriveni-csh   \n",
       "\n",
       "      MRN  AdmID Category  \n",
       "0  473241   2056      NaN  \n",
       "1  472750   2069      NaN  \n",
       "2  194381   2050      NaN  \n",
       "3  425772   2045      NaN  \n",
       "4  473242   2057      NaN  "
      ]
     },
     "execution_count": 7,
     "metadata": {},
     "output_type": "execute_result"
    }
   ],
   "source": [
    "df3.head()"
   ]
  },
  {
   "cell_type": "code",
   "execution_count": 8,
   "id": "3bd2c47b",
   "metadata": {},
   "outputs": [],
   "source": [
    "data_frames=[df3,df2,df1]\n",
    "df_main = pd.concat(data_frames, axis = 0)"
   ]
  },
  {
   "cell_type": "code",
   "execution_count": 9,
   "id": "0f16b5ee",
   "metadata": {},
   "outputs": [
    {
     "data": {
      "text/plain": [
       "(31185, 15)"
      ]
     },
     "execution_count": 9,
     "metadata": {},
     "output_type": "execute_result"
    }
   ],
   "source": [
    "df_main.shape"
   ]
  },
  {
   "cell_type": "code",
   "execution_count": 10,
   "id": "1254a623",
   "metadata": {},
   "outputs": [
    {
     "name": "stdout",
     "output_type": "stream",
     "text": [
      "<class 'pandas.core.frame.DataFrame'>\n",
      "Index: 31185 entries, 0 to 12533\n",
      "Data columns (total 15 columns):\n",
      " #   Column          Non-Null Count  Dtype         \n",
      "---  ------          --------------  -----         \n",
      " 0   #SlNo           31185 non-null  int64         \n",
      " 1   Bill Type       31185 non-null  object        \n",
      " 2   IPOP            31185 non-null  object        \n",
      " 3   Bill No         31185 non-null  int64         \n",
      " 4   Bill Date       31185 non-null  datetime64[ns]\n",
      " 5   Bill Amount     31185 non-null  int64         \n",
      " 6   Discount        31185 non-null  int64         \n",
      " 7   Net Amount      31185 non-null  int64         \n",
      " 8   Paid Amount     31185 non-null  int64         \n",
      " 9   Balance Amount  31185 non-null  int64         \n",
      " 10  Last Pay Mode   29073 non-null  object        \n",
      " 11  User            31182 non-null  object        \n",
      " 12  MRN             31185 non-null  int64         \n",
      " 13  AdmID           31185 non-null  int64         \n",
      " 14  Category        2719 non-null   object        \n",
      "dtypes: datetime64[ns](1), int64(9), object(5)\n",
      "memory usage: 3.8+ MB\n"
     ]
    }
   ],
   "source": [
    "df_main.info()"
   ]
  },
  {
   "cell_type": "code",
   "execution_count": 11,
   "id": "69584c21",
   "metadata": {},
   "outputs": [
    {
     "data": {
      "text/plain": [
       "#SlNo                 0\n",
       "Bill Type             0\n",
       "IPOP                  0\n",
       "Bill No               0\n",
       "Bill Date             0\n",
       "Bill Amount           0\n",
       "Discount              0\n",
       "Net Amount            0\n",
       "Paid Amount           0\n",
       "Balance Amount        0\n",
       "Last Pay Mode      2112\n",
       "User                  3\n",
       "MRN                   0\n",
       "AdmID                 0\n",
       "Category          28466\n",
       "dtype: int64"
      ]
     },
     "execution_count": 11,
     "metadata": {},
     "output_type": "execute_result"
    }
   ],
   "source": [
    "df_main.isnull().sum()"
   ]
  },
  {
   "cell_type": "code",
   "execution_count": 12,
   "id": "25a5bc79",
   "metadata": {},
   "outputs": [
    {
     "data": {
      "text/plain": [
       "Index(['#SlNo', 'Bill Type', 'IPOP', 'Bill No', 'Bill Date', 'Bill Amount',\n",
       "       'Discount', 'Net Amount', 'Paid Amount', 'Balance Amount',\n",
       "       'Last Pay Mode', 'User', 'MRN', 'AdmID', 'Category'],\n",
       "      dtype='object')"
      ]
     },
     "execution_count": 12,
     "metadata": {},
     "output_type": "execute_result"
    }
   ],
   "source": [
    "df_main.columns"
   ]
  },
  {
   "cell_type": "code",
   "execution_count": 13,
   "id": "6b8030ea",
   "metadata": {},
   "outputs": [],
   "source": [
    "df = df_main.copy()"
   ]
  },
  {
   "cell_type": "code",
   "execution_count": 14,
   "id": "2bc0df31",
   "metadata": {},
   "outputs": [],
   "source": [
    "df['Last Pay Mode'] = df['Last Pay Mode'].fillna(df['Last Pay Mode'].mode()[0])\n",
    "df['User'] = df['User'].fillna(df['User'].mode()[0])"
   ]
  },
  {
   "cell_type": "code",
   "execution_count": 15,
   "id": "d7d1fd59",
   "metadata": {},
   "outputs": [],
   "source": [
    "df = df.drop(columns = 'Category')"
   ]
  },
  {
   "cell_type": "code",
   "execution_count": 16,
   "id": "61f9363d",
   "metadata": {},
   "outputs": [],
   "source": [
    "df['Bill Date'] = pd.to_datetime(df['Bill Date'])"
   ]
  },
  {
   "cell_type": "code",
   "execution_count": 17,
   "id": "8eca1f13",
   "metadata": {},
   "outputs": [
    {
     "data": {
      "text/plain": [
       "#SlNo             0\n",
       "Bill Type         0\n",
       "IPOP              0\n",
       "Bill No           0\n",
       "Bill Date         0\n",
       "Bill Amount       0\n",
       "Discount          0\n",
       "Net Amount        0\n",
       "Paid Amount       0\n",
       "Balance Amount    0\n",
       "Last Pay Mode     0\n",
       "User              0\n",
       "MRN               0\n",
       "AdmID             0\n",
       "dtype: int64"
      ]
     },
     "execution_count": 17,
     "metadata": {},
     "output_type": "execute_result"
    }
   ],
   "source": [
    "df.isnull().sum()"
   ]
  },
  {
   "cell_type": "code",
   "execution_count": 18,
   "id": "3eb5f1d2",
   "metadata": {},
   "outputs": [
    {
     "data": {
      "text/plain": [
       "User\n",
       "rangaswamy-pha               3397\n",
       "padmavathi s k-pha           2410\n",
       "harinath chowdari.n-pha      2307\n",
       "deepika t-opd                1961\n",
       "bharathi h-opd               1959\n",
       "shalet d souza-opd           1884\n",
       "shobha b.r-lab               1871\n",
       "pushpa sudha-opd             1620\n",
       "geetha b-lab                 1297\n",
       "vidya c.n-opd                1227\n",
       "shobha c-opd                 1115\n",
       "madhuri r-pha                1051\n",
       "hema m g-lab                  947\n",
       "anitha p-rad                  886\n",
       "second flr 1st-nur            701\n",
       "harshitha p-pha               695\n",
       "six flr icu-nur               635\n",
       "brundha s-csh                 521\n",
       "mahesh babu-csh               491\n",
       "thriveni-csh                  489\n",
       "veena s-rad                   378\n",
       "arathi m m-mrd                266\n",
       "vivekananda swamiji s-pha     252\n",
       "veekshitha v-mrd              244\n",
       "kusuma-mrd                    240\n",
       "manjula t s-mrd               228\n",
       "priyanka-mrd                  227\n",
       "sunitha-lab                   211\n",
       "third flr 2nd wind-nur        185\n",
       "fourth floor 1st-nur          182\n",
       "casuality-cas                 178\n",
       "first flr 1st-nur             121\n",
       "kalavathi-lab                 117\n",
       "bharathi n-sec                114\n",
       "ot-ott                        108\n",
       "geetha h r-nur                 86\n",
       "vidya d p-csh                  75\n",
       "midhun v-lab                   73\n",
       "manuja-lab                     63\n",
       "john samuel-mrd                55\n",
       "puneeth k-mrd                  51\n",
       "renuka n.b-mrd                 51\n",
       "sampath k n-pha                41\n",
       "cathlab-nur                    33\n",
       "anitha v-csh                   31\n",
       "first flr 2nd wing-nur         31\n",
       "asha-str                       24\n",
       "mamatha-lab                    22\n",
       "nephrology-nur                 11\n",
       "pushpalatha r-mrd               8\n",
       "sudhir-itd                      6\n",
       "sushma-opd                      3\n",
       "achamma-lab                     3\n",
       "venkat-adm                      2\n",
       "dr.snusheen-qlt                 1\n",
       "Name: count, dtype: int64"
      ]
     },
     "execution_count": 18,
     "metadata": {},
     "output_type": "execute_result"
    }
   ],
   "source": [
    "df['User'].value_counts()"
   ]
  },
  {
   "cell_type": "code",
   "execution_count": 19,
   "id": "e661c658",
   "metadata": {},
   "outputs": [
    {
     "data": {
      "text/plain": [
       "BV_013    3397\n",
       "BV_015    2410\n",
       "BV_016    2307\n",
       "BV_021    1961\n",
       "BV_012    1959\n",
       "BV_036    1884\n",
       "BV_008    1871\n",
       "BV_028    1620\n",
       "BV_006    1297\n",
       "BV_020    1227\n",
       "BV_032    1115\n",
       "BV_014    1051\n",
       "BV_007     947\n",
       "BV_037     886\n",
       "BV_047     701\n",
       "BV_019     695\n",
       "BV_046     635\n",
       "BV_002     521\n",
       "BV_003     491\n",
       "BV_001     489\n",
       "BV_023     378\n",
       "BV_024     266\n",
       "BV_027     252\n",
       "BV_017     244\n",
       "BV_031     240\n",
       "BV_029     228\n",
       "BV_045     227\n",
       "BV_009     211\n",
       "BV_043     185\n",
       "BV_049     182\n",
       "BV_042     178\n",
       "BV_044     121\n",
       "BV_010     117\n",
       "BV_035     114\n",
       "BV_051     108\n",
       "BV_025      86\n",
       "BV_004      75\n",
       "BV_005      73\n",
       "BV_040      63\n",
       "BV_018      55\n",
       "BV_055      51\n",
       "BV_034      51\n",
       "BV_026      41\n",
       "BV_054      33\n",
       "BV_022      31\n",
       "BV_048      31\n",
       "BV_030      24\n",
       "BV_011      22\n",
       "BV_052      11\n",
       "BV_038       8\n",
       "BV_039       6\n",
       "BV_033       3\n",
       "BV_050       3\n",
       "BV_041       2\n",
       "BV_053       1\n",
       "Name: count, dtype: int64"
      ]
     },
     "execution_count": 19,
     "metadata": {},
     "output_type": "execute_result"
    }
   ],
   "source": [
    "user_names = {}\n",
    "c = 0\n",
    "\n",
    "anonymized_users_names = []\n",
    "for i in df['User']:\n",
    "    if i not in user_names:\n",
    "        c += 1\n",
    "        user_names[i] = f\"BV_{c:03d}\"\n",
    "    anonymized_users_names.append(user_names[i])\n",
    "    \n",
    "user_list = pd.Series(anonymized_users_names)\n",
    "user_list.value_counts()"
   ]
  },
  {
   "cell_type": "code",
   "execution_count": 20,
   "id": "365bf81a",
   "metadata": {},
   "outputs": [],
   "source": [
    "df[\"User_Anonymized\"] = anonymized_users_names"
   ]
  },
  {
   "cell_type": "code",
   "execution_count": 21,
   "id": "5def52e7",
   "metadata": {},
   "outputs": [
    {
     "data": {
      "text/html": [
       "<div>\n",
       "<style scoped>\n",
       "    .dataframe tbody tr th:only-of-type {\n",
       "        vertical-align: middle;\n",
       "    }\n",
       "\n",
       "    .dataframe tbody tr th {\n",
       "        vertical-align: top;\n",
       "    }\n",
       "\n",
       "    .dataframe thead th {\n",
       "        text-align: right;\n",
       "    }\n",
       "</style>\n",
       "<table border=\"1\" class=\"dataframe\">\n",
       "  <thead>\n",
       "    <tr style=\"text-align: right;\">\n",
       "      <th></th>\n",
       "      <th>#SlNo</th>\n",
       "      <th>Bill Type</th>\n",
       "      <th>IPOP</th>\n",
       "      <th>Bill No</th>\n",
       "      <th>Bill Date</th>\n",
       "      <th>Bill Amount</th>\n",
       "      <th>Discount</th>\n",
       "      <th>Net Amount</th>\n",
       "      <th>Paid Amount</th>\n",
       "      <th>Balance Amount</th>\n",
       "      <th>Last Pay Mode</th>\n",
       "      <th>User</th>\n",
       "      <th>MRN</th>\n",
       "      <th>AdmID</th>\n",
       "      <th>User_Anonymized</th>\n",
       "    </tr>\n",
       "  </thead>\n",
       "  <tbody>\n",
       "    <tr>\n",
       "      <th>0</th>\n",
       "      <td>1</td>\n",
       "      <td>Ip Bill</td>\n",
       "      <td>IP</td>\n",
       "      <td>2065</td>\n",
       "      <td>2019-10-11 12:42:18</td>\n",
       "      <td>170255</td>\n",
       "      <td>20000</td>\n",
       "      <td>150255</td>\n",
       "      <td>150255</td>\n",
       "      <td>0</td>\n",
       "      <td>CASH</td>\n",
       "      <td>thriveni-csh</td>\n",
       "      <td>473241</td>\n",
       "      <td>2056</td>\n",
       "      <td>BV_001</td>\n",
       "    </tr>\n",
       "  </tbody>\n",
       "</table>\n",
       "</div>"
      ],
      "text/plain": [
       "   #SlNo Bill Type IPOP  Bill No           Bill Date  Bill Amount  Discount  \\\n",
       "0      1   Ip Bill   IP     2065 2019-10-11 12:42:18       170255     20000   \n",
       "\n",
       "   Net Amount  Paid Amount  Balance Amount Last Pay Mode          User  \\\n",
       "0      150255       150255               0          CASH  thriveni-csh   \n",
       "\n",
       "      MRN  AdmID User_Anonymized  \n",
       "0  473241   2056          BV_001  "
      ]
     },
     "execution_count": 21,
     "metadata": {},
     "output_type": "execute_result"
    }
   ],
   "source": [
    "df.head(1)"
   ]
  },
  {
   "cell_type": "code",
   "execution_count": 22,
   "id": "ce6c6a26",
   "metadata": {},
   "outputs": [],
   "source": [
    "Anonymized_df = pd.DataFrame(list(user_names.items()), columns=[\"User\", \"BloomValue Code\"])"
   ]
  },
  {
   "cell_type": "code",
   "execution_count": 23,
   "id": "a036e57e",
   "metadata": {},
   "outputs": [
    {
     "data": {
      "text/html": [
       "<div>\n",
       "<style scoped>\n",
       "    .dataframe tbody tr th:only-of-type {\n",
       "        vertical-align: middle;\n",
       "    }\n",
       "\n",
       "    .dataframe tbody tr th {\n",
       "        vertical-align: top;\n",
       "    }\n",
       "\n",
       "    .dataframe thead th {\n",
       "        text-align: right;\n",
       "    }\n",
       "</style>\n",
       "<table border=\"1\" class=\"dataframe\">\n",
       "  <thead>\n",
       "    <tr style=\"text-align: right;\">\n",
       "      <th></th>\n",
       "      <th>User</th>\n",
       "      <th>BloomValue Code</th>\n",
       "    </tr>\n",
       "  </thead>\n",
       "  <tbody>\n",
       "    <tr>\n",
       "      <th>0</th>\n",
       "      <td>thriveni-csh</td>\n",
       "      <td>BV_001</td>\n",
       "    </tr>\n",
       "    <tr>\n",
       "      <th>1</th>\n",
       "      <td>brundha s-csh</td>\n",
       "      <td>BV_002</td>\n",
       "    </tr>\n",
       "    <tr>\n",
       "      <th>2</th>\n",
       "      <td>mahesh babu-csh</td>\n",
       "      <td>BV_003</td>\n",
       "    </tr>\n",
       "    <tr>\n",
       "      <th>3</th>\n",
       "      <td>vidya d p-csh</td>\n",
       "      <td>BV_004</td>\n",
       "    </tr>\n",
       "    <tr>\n",
       "      <th>4</th>\n",
       "      <td>midhun v-lab</td>\n",
       "      <td>BV_005</td>\n",
       "    </tr>\n",
       "  </tbody>\n",
       "</table>\n",
       "</div>"
      ],
      "text/plain": [
       "              User BloomValue Code\n",
       "0     thriveni-csh          BV_001\n",
       "1    brundha s-csh          BV_002\n",
       "2  mahesh babu-csh          BV_003\n",
       "3    vidya d p-csh          BV_004\n",
       "4     midhun v-lab          BV_005"
      ]
     },
     "execution_count": 23,
     "metadata": {},
     "output_type": "execute_result"
    }
   ],
   "source": [
    "Anonymized_df.head()"
   ]
  },
  {
   "cell_type": "code",
   "execution_count": 24,
   "id": "e4810af6",
   "metadata": {},
   "outputs": [],
   "source": [
    "df = df.drop(columns = 'User')"
   ]
  },
  {
   "cell_type": "code",
   "execution_count": 25,
   "id": "a97c32e6",
   "metadata": {},
   "outputs": [
    {
     "data": {
      "text/html": [
       "<div>\n",
       "<style scoped>\n",
       "    .dataframe tbody tr th:only-of-type {\n",
       "        vertical-align: middle;\n",
       "    }\n",
       "\n",
       "    .dataframe tbody tr th {\n",
       "        vertical-align: top;\n",
       "    }\n",
       "\n",
       "    .dataframe thead th {\n",
       "        text-align: right;\n",
       "    }\n",
       "</style>\n",
       "<table border=\"1\" class=\"dataframe\">\n",
       "  <thead>\n",
       "    <tr style=\"text-align: right;\">\n",
       "      <th></th>\n",
       "      <th>#SlNo</th>\n",
       "      <th>Bill Type</th>\n",
       "      <th>IPOP</th>\n",
       "      <th>Bill No</th>\n",
       "      <th>Bill Date</th>\n",
       "      <th>Bill Amount</th>\n",
       "      <th>Discount</th>\n",
       "      <th>Net Amount</th>\n",
       "      <th>Paid Amount</th>\n",
       "      <th>Balance Amount</th>\n",
       "      <th>Last Pay Mode</th>\n",
       "      <th>MRN</th>\n",
       "      <th>AdmID</th>\n",
       "      <th>User_Anonymized</th>\n",
       "    </tr>\n",
       "  </thead>\n",
       "  <tbody>\n",
       "    <tr>\n",
       "      <th>0</th>\n",
       "      <td>1</td>\n",
       "      <td>Ip Bill</td>\n",
       "      <td>IP</td>\n",
       "      <td>2065</td>\n",
       "      <td>2019-10-11 12:42:18</td>\n",
       "      <td>170255</td>\n",
       "      <td>20000</td>\n",
       "      <td>150255</td>\n",
       "      <td>150255</td>\n",
       "      <td>0</td>\n",
       "      <td>CASH</td>\n",
       "      <td>473241</td>\n",
       "      <td>2056</td>\n",
       "      <td>BV_001</td>\n",
       "    </tr>\n",
       "  </tbody>\n",
       "</table>\n",
       "</div>"
      ],
      "text/plain": [
       "   #SlNo Bill Type IPOP  Bill No           Bill Date  Bill Amount  Discount  \\\n",
       "0      1   Ip Bill   IP     2065 2019-10-11 12:42:18       170255     20000   \n",
       "\n",
       "   Net Amount  Paid Amount  Balance Amount Last Pay Mode     MRN  AdmID  \\\n",
       "0      150255       150255               0          CASH  473241   2056   \n",
       "\n",
       "  User_Anonymized  \n",
       "0          BV_001  "
      ]
     },
     "execution_count": 25,
     "metadata": {},
     "output_type": "execute_result"
    }
   ],
   "source": [
    "df.head(1)"
   ]
  },
  {
   "cell_type": "code",
   "execution_count": 26,
   "id": "f55d3f35",
   "metadata": {},
   "outputs": [],
   "source": [
    "df.rename(columns={'#SlNo': 'S.No.'}, inplace=True)"
   ]
  },
  {
   "cell_type": "code",
   "execution_count": 27,
   "id": "9985fd6c",
   "metadata": {
    "scrolled": false
   },
   "outputs": [
    {
     "name": "stdout",
     "output_type": "stream",
     "text": [
      "<class 'pandas.core.frame.DataFrame'>\n",
      "Index: 31185 entries, 0 to 12533\n",
      "Data columns (total 14 columns):\n",
      " #   Column           Non-Null Count  Dtype         \n",
      "---  ------           --------------  -----         \n",
      " 0   S.No.            31185 non-null  int64         \n",
      " 1   Bill Type        31185 non-null  object        \n",
      " 2   IPOP             31185 non-null  object        \n",
      " 3   Bill No          31185 non-null  int64         \n",
      " 4   Bill Date        31185 non-null  datetime64[ns]\n",
      " 5   Bill Amount      31185 non-null  int64         \n",
      " 6   Discount         31185 non-null  int64         \n",
      " 7   Net Amount       31185 non-null  int64         \n",
      " 8   Paid Amount      31185 non-null  int64         \n",
      " 9   Balance Amount   31185 non-null  int64         \n",
      " 10  Last Pay Mode    31185 non-null  object        \n",
      " 11  MRN              31185 non-null  int64         \n",
      " 12  AdmID            31185 non-null  int64         \n",
      " 13  User_Anonymized  31185 non-null  object        \n",
      "dtypes: datetime64[ns](1), int64(9), object(4)\n",
      "memory usage: 3.6+ MB\n"
     ]
    }
   ],
   "source": [
    "df.info()"
   ]
  },
  {
   "cell_type": "code",
   "execution_count": 31,
   "id": "a0994fbe",
   "metadata": {},
   "outputs": [],
   "source": [
    "df.to_csv(\"bv_details.csv\", index=False)"
   ]
  },
  {
   "cell_type": "code",
   "execution_count": null,
   "id": "e87f7d01",
   "metadata": {},
   "outputs": [],
   "source": []
  }
 ],
 "metadata": {
  "kernelspec": {
   "display_name": "Python 3 (ipykernel)",
   "language": "python",
   "name": "python3"
  },
  "language_info": {
   "codemirror_mode": {
    "name": "ipython",
    "version": 3
   },
   "file_extension": ".py",
   "mimetype": "text/x-python",
   "name": "python",
   "nbconvert_exporter": "python",
   "pygments_lexer": "ipython3",
   "version": "3.9.13"
  }
 },
 "nbformat": 4,
 "nbformat_minor": 5
}
